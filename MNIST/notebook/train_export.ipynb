{
 "cells": [
  {
   "cell_type": "markdown",
   "id": "bf2d726d",
   "metadata": {},
   "source": [
    "### 1. Импорт и загрузка данных "
   ]
  },
  {
   "cell_type": "code",
   "execution_count": null,
   "id": "32b58ab1",
   "metadata": {},
   "outputs": [
    {
     "name": "stdout",
     "output_type": "stream",
     "text": [
      "Using device: cpu\n"
     ]
    }
   ],
   "source": [
    "import torch\n",
    "import torch.nn as nn\n",
    "import torch.optim as optim\n",
    "from torch.utils.data import DataLoader\n",
    "from torchvision import datasets, transforms\n",
    "\n",
    "# фиксируем device\n",
    "device = torch.device(\"cuda\" if torch.cuda.is_available() else \"cpu\")\n",
    "print(\"Using device:\", device)"
   ]
  },
  {
   "cell_type": "code",
   "execution_count": null,
   "id": "6111238a",
   "metadata": {},
   "outputs": [],
   "source": [
    "transform = transforms.Compose([\n",
    "    transforms.ToTensor(),               # загрузит в [0,1], shape=(1,28,28)\n",
    "])\n",
    "train_ds = datasets.MNIST(\"../data\", train=True, download=True, transform=transform)\n",
    "test_ds  = datasets.MNIST(\"../data\", train=False, download=True, transform=transform)\n",
    "\n",
    "train_loader = DataLoader(train_ds, batch_size=64, shuffle=True)\n",
    "test_loader  = DataLoader(test_ds,  batch_size=1000, shuffle=False)"
   ]
  },
  {
   "cell_type": "markdown",
   "id": "00dfd0f9",
   "metadata": {},
   "source": [
    "### 2. Определение модели:"
   ]
  },
  {
   "cell_type": "code",
   "execution_count": null,
   "id": "51280b74",
   "metadata": {},
   "outputs": [
    {
     "name": "stdout",
     "output_type": "stream",
     "text": [
      "MNISTNet(\n",
      "  (conv1): Conv2d(1, 16, kernel_size=(5, 5), stride=(1, 1), padding=(2, 2))\n",
      "  (pool): MaxPool2d(kernel_size=2, stride=2, padding=0, dilation=1, ceil_mode=False)\n",
      "  (conv2): Conv2d(16, 32, kernel_size=(5, 5), stride=(1, 1), padding=(2, 2))\n",
      "  (fc1): Linear(in_features=1568, out_features=128, bias=True)\n",
      "  (fc2): Linear(in_features=128, out_features=10, bias=True)\n",
      ")\n"
     ]
    }
   ],
   "source": [
    "class MNISTNet(nn.Module):\n",
    "    def __init__(self):\n",
    "        super().__init__()\n",
    "        self.conv1 = nn.Conv2d(1, 16, kernel_size=5, padding=2)  # 1×28×28 → 16×28×28\n",
    "        self.pool  = nn.MaxPool2d(2,2)                          # 16×28×28 → 16×14×14\n",
    "        self.conv2 = nn.Conv2d(16, 32, kernel_size=5, padding=2) # 16×14×14 → 32×14×14\n",
    "        #→ pool → 32×7×7, flatten → 32*7*7=1568\n",
    "        self.fc1   = nn.Linear(32*7*7, 128)\n",
    "        self.fc2   = nn.Linear(128, 10)\n",
    "    def forward(self, x):\n",
    "        x = self.pool(torch.relu(self.conv1(x)))\n",
    "        x = self.pool(torch.relu(self.conv2(x)))\n",
    "        x = x.view(x.size(0), -1)\n",
    "        x = torch.relu(self.fc1(x))\n",
    "        return self.fc2(x)\n",
    "\n",
    "model = MNISTNet().to(device)\n",
    "print(model)"
   ]
  },
  {
   "cell_type": "markdown",
   "id": "96a571f7",
   "metadata": {},
   "source": [
    "### 3. Тренировка:"
   ]
  },
  {
   "cell_type": "code",
   "execution_count": null,
   "id": "9d9a553d",
   "metadata": {},
   "outputs": [
    {
     "name": "stdout",
     "output_type": "stream",
     "text": [
      "Epoch 1, loss=0.1861\n",
      "Epoch 2, loss=0.0550\n",
      "Epoch 3, loss=0.0375\n",
      "Epoch 4, loss=0.0288\n",
      "Epoch 5, loss=0.0215\n"
     ]
    }
   ],
   "source": [
    "criterion = nn.CrossEntropyLoss()\n",
    "optimizer = optim.Adam(model.parameters(), lr=1e-3)\n",
    "\n",
    "for epoch in range(1, 6):   # 5 эпох достаточно для теста\n",
    "    model.train()\n",
    "    total_loss = 0\n",
    "    for xb, yb in train_loader:\n",
    "        xb, yb = xb.to(device), yb.to(device)\n",
    "        pred = model(xb)\n",
    "        loss = criterion(pred, yb)\n",
    "        optimizer.zero_grad()\n",
    "        loss.backward()\n",
    "        optimizer.step()\n",
    "        total_loss += loss.item()\n",
    "    print(f\"Epoch {epoch}, loss={total_loss/len(train_loader):.4f}\")"
   ]
  },
  {
   "cell_type": "markdown",
   "id": "56503251",
   "metadata": {},
   "source": [
    "### 4. Проверк точности на тестовой выборке"
   ]
  },
  {
   "cell_type": "code",
   "execution_count": null,
   "id": "080c91bd",
   "metadata": {},
   "outputs": [
    {
     "name": "stdout",
     "output_type": "stream",
     "text": [
      "Test accuracy: 0.9894\n"
     ]
    }
   ],
   "source": [
    "model.eval()\n",
    "correct = 0\n",
    "with torch.no_grad():\n",
    "    for xb, yb in test_loader:\n",
    "        xb, yb = xb.to(device), yb.to(device)\n",
    "        pred = model(xb).argmax(dim=1)\n",
    "        correct += (pred == yb).sum().item()\n",
    "print(\"Test accuracy:\", correct/len(test_ds))"
   ]
  },
  {
   "cell_type": "markdown",
   "id": "f93edb1d",
   "metadata": {},
   "source": [
    "### 5. Экспорт в ONNX"
   ]
  },
  {
   "cell_type": "code",
   "execution_count": 13,
   "id": "a4d48571",
   "metadata": {},
   "outputs": [
    {
     "name": "stdout",
     "output_type": "stream",
     "text": [
      "ONNX saved to ../model/model.onnx\n"
     ]
    }
   ],
   "source": [
    "# Ячейка 6: экспорт в ONNX\n",
    "dummy = torch.randn(1,1,28,28, device=device)\n",
    "torch.onnx.export(\n",
    "    model, dummy, \"../model/model.onnx\",\n",
    "    input_names=[\"input\"], output_names=[\"output\"],\n",
    "    dynamic_axes={\"input\":{0:\"batch\"}, \"output\":{0:\"batch\"}},\n",
    "    opset_version=11\n",
    ")\n",
    "print(\"ONNX saved to ../model/model.onnx\")"
   ]
  },
  {
   "cell_type": "markdown",
   "id": "d06a0e22",
   "metadata": {},
   "source": [
    "# Локальная проверка ONNX\n"
   ]
  },
  {
   "cell_type": "code",
   "execution_count": 19,
   "id": "3440ecc7",
   "metadata": {},
   "outputs": [
    {
     "name": "stdout",
     "output_type": "stream",
     "text": [
      "ONNX output: [[  1.2481185   -0.46793416  15.569992    -5.461108   -10.614124\n",
      "  -16.906298    -1.2405177   -5.5630975   -1.717217   -13.229018  ]]\n"
     ]
    }
   ],
   "source": [
    "import onnxruntime as rt\n",
    "import numpy as np\n",
    "from PIL import Image\n",
    "\n",
    "# 1) Загрузить сессию ONNX\n",
    "sess = rt.InferenceSession(\"../model/model.onnx\")\n",
    "input_name  = sess.get_inputs()[0].name\n",
    "output_name = sess.get_outputs()[0].name\n",
    "\n",
    "# 2) Загрузить и подготовить изображение\n",
    "img = Image.open(\"../data/sample2.bmp\").convert(\"L\")       # grayscale\n",
    "arr = np.array(img, dtype=np.float32) / 255.0           # нормировать в [0,1]\n",
    "# ONNX-модель ожидает input shape = (batch, channel, height, width)\n",
    "input_tensor = arr[np.newaxis, np.newaxis, :, :]\n",
    "\n",
    "# 3) Запустить инференс\n",
    "output = sess.run([output_name], {input_name: input_tensor})[0]\n",
    "\n",
    "# 4) Вывести результаты\n",
    "print(\"ONNX output:\", output)\n"
   ]
  }
 ],
 "metadata": {
  "kernelspec": {
   "display_name": "venv",
   "language": "python",
   "name": "python3"
  },
  "language_info": {
   "codemirror_mode": {
    "name": "ipython",
    "version": 3
   },
   "file_extension": ".py",
   "mimetype": "text/x-python",
   "name": "python",
   "nbconvert_exporter": "python",
   "pygments_lexer": "ipython3",
   "version": "3.12.3"
  }
 },
 "nbformat": 4,
 "nbformat_minor": 5
}
