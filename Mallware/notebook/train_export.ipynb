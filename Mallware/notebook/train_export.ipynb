{
 "cells": [
  {
   "cell_type": "markdown",
   "id": "d6df38cc",
   "metadata": {},
   "source": [
    "### 1. Зависимости"
   ]
  },
  {
   "cell_type": "code",
   "execution_count": 86,
   "id": "ee824849",
   "metadata": {},
   "outputs": [],
   "source": [
    "# !pip install tensorflow tf2onnx onnx onnxruntime numpy pillow sklearn"
   ]
  },
  {
   "cell_type": "code",
   "execution_count": 87,
   "id": "32b58ab1",
   "metadata": {},
   "outputs": [],
   "source": [
    "import os, gzip, numpy as np\n",
    "import tensorflow as tf\n",
    "from tensorflow.keras import layers, Model\n",
    "import tf2onnx, onnxruntime as ort\n",
    "from sklearn.metrics import accuracy_score, precision_recall_fscore_support\n",
    "from PIL import Image\n",
    "import random"
   ]
  },
  {
   "cell_type": "markdown",
   "id": "bf2d726d",
   "metadata": {},
   "source": [
    "### 2. Загрузчик данных"
   ]
  },
  {
   "cell_type": "code",
   "execution_count": 88,
   "id": "6111238a",
   "metadata": {},
   "outputs": [],
   "source": [
    "class MNISTDataLoader:\n",
    "    def __init__(self, data_dir, class_num=20):\n",
    "        self.data_dir  = data_dir\n",
    "        self.class_num = class_num\n",
    "        self.train_X, self.train_y = self._load_split('train')\n",
    "        self.test_X,  self.test_y  = self._load_split('t10k')\n",
    "        self.train_y = tf.keras.utils.to_categorical(self.train_y, class_num)\n",
    "        self.test_y  = tf.keras.utils.to_categorical(self.test_y,  class_num)\n",
    "        self.num_train = len(self.train_X)\n",
    "        print(f\"Loaded: train {self.train_X.shape}, test {self.test_X.shape}\")\n",
    "\n",
    "    def _load_split(self, prefix):\n",
    "        imf = os.path.join(self.data_dir, f'{prefix}-images-idx3-ubyte.gz')\n",
    "        lf  = os.path.join(self.data_dir, f'{prefix}-labels-idx1-ubyte.gz')\n",
    "        with gzip.open(imf,'rb') as f:\n",
    "            buf = f.read()\n",
    "        X = np.frombuffer(buf, np.uint8, offset=16).astype(np.float32)/255.0\n",
    "        X = X.reshape(-1,28,28,1)\n",
    "        with gzip.open(lf,'rb') as f:\n",
    "            buf = f.read()\n",
    "        y = np.frombuffer(buf, np.uint8, offset=8)\n",
    "        return X, y"
   ]
  },
  {
   "cell_type": "markdown",
   "id": "21a38a0c",
   "metadata": {},
   "source": [
    "Параметры запуска"
   ]
  },
  {
   "cell_type": "code",
   "execution_count": 89,
   "id": "cc08579e",
   "metadata": {},
   "outputs": [],
   "source": [
    "DATA_DIR   = '../data/dataset/20class/FlowAllLayers'\n",
    "CLASS_NUM  = 20\n",
    "BATCH_SIZE = 500\n",
    "EPOCHS     = 1\n",
    "ONNX_PATH  = '../model/model.onnx'"
   ]
  },
  {
   "cell_type": "code",
   "execution_count": 90,
   "id": "fe61c695",
   "metadata": {},
   "outputs": [
    {
     "name": "stdout",
     "output_type": "stream",
     "text": [
      "Loaded: train (245437, 28, 28, 1), test (27271, 28, 28, 1)\n"
     ]
    }
   ],
   "source": [
    "dl = MNISTDataLoader(DATA_DIR, class_num=CLASS_NUM)"
   ]
  },
  {
   "cell_type": "markdown",
   "id": "00dfd0f9",
   "metadata": {},
   "source": [
    "### 2. Определение модели:"
   ]
  },
  {
   "cell_type": "code",
   "execution_count": 92,
   "id": "51280b74",
   "metadata": {},
   "outputs": [
    {
     "data": {
      "text/html": [
       "<pre style=\"white-space:pre;overflow-x:auto;line-height:normal;font-family:Menlo,'DejaVu Sans Mono',consolas,'Courier New',monospace\"><span style=\"font-weight: bold\">Model: \"SimpleCNN\"</span>\n",
       "</pre>\n"
      ],
      "text/plain": [
       "\u001b[1mModel: \"SimpleCNN\"\u001b[0m\n"
      ]
     },
     "metadata": {},
     "output_type": "display_data"
    },
    {
     "data": {
      "text/html": [
       "<pre style=\"white-space:pre;overflow-x:auto;line-height:normal;font-family:Menlo,'DejaVu Sans Mono',consolas,'Courier New',monospace\">┏━━━━━━━━━━━━━━━━━━━━━━━━━━━━━━━━━┳━━━━━━━━━━━━━━━━━━━━━━━━┳━━━━━━━━━━━━━━━┓\n",
       "┃<span style=\"font-weight: bold\"> Layer (type)                    </span>┃<span style=\"font-weight: bold\"> Output Shape           </span>┃<span style=\"font-weight: bold\">       Param # </span>┃\n",
       "┡━━━━━━━━━━━━━━━━━━━━━━━━━━━━━━━━━╇━━━━━━━━━━━━━━━━━━━━━━━━╇━━━━━━━━━━━━━━━┩\n",
       "│ input (<span style=\"color: #0087ff; text-decoration-color: #0087ff\">InputLayer</span>)              │ (<span style=\"color: #00d7ff; text-decoration-color: #00d7ff\">None</span>, <span style=\"color: #00af00; text-decoration-color: #00af00\">28</span>, <span style=\"color: #00af00; text-decoration-color: #00af00\">28</span>, <span style=\"color: #00af00; text-decoration-color: #00af00\">1</span>)      │             <span style=\"color: #00af00; text-decoration-color: #00af00\">0</span> │\n",
       "├─────────────────────────────────┼────────────────────────┼───────────────┤\n",
       "│ conv2d_17 (<span style=\"color: #0087ff; text-decoration-color: #0087ff\">Conv2D</span>)              │ (<span style=\"color: #00d7ff; text-decoration-color: #00d7ff\">None</span>, <span style=\"color: #00af00; text-decoration-color: #00af00\">28</span>, <span style=\"color: #00af00; text-decoration-color: #00af00\">28</span>, <span style=\"color: #00af00; text-decoration-color: #00af00\">32</span>)     │           <span style=\"color: #00af00; text-decoration-color: #00af00\">320</span> │\n",
       "├─────────────────────────────────┼────────────────────────┼───────────────┤\n",
       "│ max_pooling2d_16 (<span style=\"color: #0087ff; text-decoration-color: #0087ff\">MaxPooling2D</span>) │ (<span style=\"color: #00d7ff; text-decoration-color: #00d7ff\">None</span>, <span style=\"color: #00af00; text-decoration-color: #00af00\">14</span>, <span style=\"color: #00af00; text-decoration-color: #00af00\">14</span>, <span style=\"color: #00af00; text-decoration-color: #00af00\">32</span>)     │             <span style=\"color: #00af00; text-decoration-color: #00af00\">0</span> │\n",
       "├─────────────────────────────────┼────────────────────────┼───────────────┤\n",
       "│ conv2d_18 (<span style=\"color: #0087ff; text-decoration-color: #0087ff\">Conv2D</span>)              │ (<span style=\"color: #00d7ff; text-decoration-color: #00d7ff\">None</span>, <span style=\"color: #00af00; text-decoration-color: #00af00\">14</span>, <span style=\"color: #00af00; text-decoration-color: #00af00\">14</span>, <span style=\"color: #00af00; text-decoration-color: #00af00\">64</span>)     │        <span style=\"color: #00af00; text-decoration-color: #00af00\">18,496</span> │\n",
       "├─────────────────────────────────┼────────────────────────┼───────────────┤\n",
       "│ max_pooling2d_17 (<span style=\"color: #0087ff; text-decoration-color: #0087ff\">MaxPooling2D</span>) │ (<span style=\"color: #00d7ff; text-decoration-color: #00d7ff\">None</span>, <span style=\"color: #00af00; text-decoration-color: #00af00\">7</span>, <span style=\"color: #00af00; text-decoration-color: #00af00\">7</span>, <span style=\"color: #00af00; text-decoration-color: #00af00\">64</span>)       │             <span style=\"color: #00af00; text-decoration-color: #00af00\">0</span> │\n",
       "├─────────────────────────────────┼────────────────────────┼───────────────┤\n",
       "│ conv2d_19 (<span style=\"color: #0087ff; text-decoration-color: #0087ff\">Conv2D</span>)              │ (<span style=\"color: #00d7ff; text-decoration-color: #00d7ff\">None</span>, <span style=\"color: #00af00; text-decoration-color: #00af00\">1</span>, <span style=\"color: #00af00; text-decoration-color: #00af00\">1</span>, <span style=\"color: #00af00; text-decoration-color: #00af00\">128</span>)      │       <span style=\"color: #00af00; text-decoration-color: #00af00\">401,536</span> │\n",
       "├─────────────────────────────────┼────────────────────────┼───────────────┤\n",
       "│ conv2d_20 (<span style=\"color: #0087ff; text-decoration-color: #0087ff\">Conv2D</span>)              │ (<span style=\"color: #00d7ff; text-decoration-color: #00d7ff\">None</span>, <span style=\"color: #00af00; text-decoration-color: #00af00\">1</span>, <span style=\"color: #00af00; text-decoration-color: #00af00\">1</span>, <span style=\"color: #00af00; text-decoration-color: #00af00\">20</span>)       │         <span style=\"color: #00af00; text-decoration-color: #00af00\">2,580</span> │\n",
       "├─────────────────────────────────┼────────────────────────┼───────────────┤\n",
       "│ reshape (<span style=\"color: #0087ff; text-decoration-color: #0087ff\">Reshape</span>)               │ (<span style=\"color: #00d7ff; text-decoration-color: #00d7ff\">None</span>, <span style=\"color: #00af00; text-decoration-color: #00af00\">20</span>)             │             <span style=\"color: #00af00; text-decoration-color: #00af00\">0</span> │\n",
       "└─────────────────────────────────┴────────────────────────┴───────────────┘\n",
       "</pre>\n"
      ],
      "text/plain": [
       "┏━━━━━━━━━━━━━━━━━━━━━━━━━━━━━━━━━┳━━━━━━━━━━━━━━━━━━━━━━━━┳━━━━━━━━━━━━━━━┓\n",
       "┃\u001b[1m \u001b[0m\u001b[1mLayer (type)                   \u001b[0m\u001b[1m \u001b[0m┃\u001b[1m \u001b[0m\u001b[1mOutput Shape          \u001b[0m\u001b[1m \u001b[0m┃\u001b[1m \u001b[0m\u001b[1m      Param #\u001b[0m\u001b[1m \u001b[0m┃\n",
       "┡━━━━━━━━━━━━━━━━━━━━━━━━━━━━━━━━━╇━━━━━━━━━━━━━━━━━━━━━━━━╇━━━━━━━━━━━━━━━┩\n",
       "│ input (\u001b[38;5;33mInputLayer\u001b[0m)              │ (\u001b[38;5;45mNone\u001b[0m, \u001b[38;5;34m28\u001b[0m, \u001b[38;5;34m28\u001b[0m, \u001b[38;5;34m1\u001b[0m)      │             \u001b[38;5;34m0\u001b[0m │\n",
       "├─────────────────────────────────┼────────────────────────┼───────────────┤\n",
       "│ conv2d_17 (\u001b[38;5;33mConv2D\u001b[0m)              │ (\u001b[38;5;45mNone\u001b[0m, \u001b[38;5;34m28\u001b[0m, \u001b[38;5;34m28\u001b[0m, \u001b[38;5;34m32\u001b[0m)     │           \u001b[38;5;34m320\u001b[0m │\n",
       "├─────────────────────────────────┼────────────────────────┼───────────────┤\n",
       "│ max_pooling2d_16 (\u001b[38;5;33mMaxPooling2D\u001b[0m) │ (\u001b[38;5;45mNone\u001b[0m, \u001b[38;5;34m14\u001b[0m, \u001b[38;5;34m14\u001b[0m, \u001b[38;5;34m32\u001b[0m)     │             \u001b[38;5;34m0\u001b[0m │\n",
       "├─────────────────────────────────┼────────────────────────┼───────────────┤\n",
       "│ conv2d_18 (\u001b[38;5;33mConv2D\u001b[0m)              │ (\u001b[38;5;45mNone\u001b[0m, \u001b[38;5;34m14\u001b[0m, \u001b[38;5;34m14\u001b[0m, \u001b[38;5;34m64\u001b[0m)     │        \u001b[38;5;34m18,496\u001b[0m │\n",
       "├─────────────────────────────────┼────────────────────────┼───────────────┤\n",
       "│ max_pooling2d_17 (\u001b[38;5;33mMaxPooling2D\u001b[0m) │ (\u001b[38;5;45mNone\u001b[0m, \u001b[38;5;34m7\u001b[0m, \u001b[38;5;34m7\u001b[0m, \u001b[38;5;34m64\u001b[0m)       │             \u001b[38;5;34m0\u001b[0m │\n",
       "├─────────────────────────────────┼────────────────────────┼───────────────┤\n",
       "│ conv2d_19 (\u001b[38;5;33mConv2D\u001b[0m)              │ (\u001b[38;5;45mNone\u001b[0m, \u001b[38;5;34m1\u001b[0m, \u001b[38;5;34m1\u001b[0m, \u001b[38;5;34m128\u001b[0m)      │       \u001b[38;5;34m401,536\u001b[0m │\n",
       "├─────────────────────────────────┼────────────────────────┼───────────────┤\n",
       "│ conv2d_20 (\u001b[38;5;33mConv2D\u001b[0m)              │ (\u001b[38;5;45mNone\u001b[0m, \u001b[38;5;34m1\u001b[0m, \u001b[38;5;34m1\u001b[0m, \u001b[38;5;34m20\u001b[0m)       │         \u001b[38;5;34m2,580\u001b[0m │\n",
       "├─────────────────────────────────┼────────────────────────┼───────────────┤\n",
       "│ reshape (\u001b[38;5;33mReshape\u001b[0m)               │ (\u001b[38;5;45mNone\u001b[0m, \u001b[38;5;34m20\u001b[0m)             │             \u001b[38;5;34m0\u001b[0m │\n",
       "└─────────────────────────────────┴────────────────────────┴───────────────┘\n"
      ]
     },
     "metadata": {},
     "output_type": "display_data"
    },
    {
     "data": {
      "text/html": [
       "<pre style=\"white-space:pre;overflow-x:auto;line-height:normal;font-family:Menlo,'DejaVu Sans Mono',consolas,'Courier New',monospace\"><span style=\"font-weight: bold\"> Total params: </span><span style=\"color: #00af00; text-decoration-color: #00af00\">422,932</span> (1.61 MB)\n",
       "</pre>\n"
      ],
      "text/plain": [
       "\u001b[1m Total params: \u001b[0m\u001b[38;5;34m422,932\u001b[0m (1.61 MB)\n"
      ]
     },
     "metadata": {},
     "output_type": "display_data"
    },
    {
     "data": {
      "text/html": [
       "<pre style=\"white-space:pre;overflow-x:auto;line-height:normal;font-family:Menlo,'DejaVu Sans Mono',consolas,'Courier New',monospace\"><span style=\"font-weight: bold\"> Trainable params: </span><span style=\"color: #00af00; text-decoration-color: #00af00\">422,932</span> (1.61 MB)\n",
       "</pre>\n"
      ],
      "text/plain": [
       "\u001b[1m Trainable params: \u001b[0m\u001b[38;5;34m422,932\u001b[0m (1.61 MB)\n"
      ]
     },
     "metadata": {},
     "output_type": "display_data"
    },
    {
     "data": {
      "text/html": [
       "<pre style=\"white-space:pre;overflow-x:auto;line-height:normal;font-family:Menlo,'DejaVu Sans Mono',consolas,'Courier New',monospace\"><span style=\"font-weight: bold\"> Non-trainable params: </span><span style=\"color: #00af00; text-decoration-color: #00af00\">0</span> (0.00 B)\n",
       "</pre>\n"
      ],
      "text/plain": [
       "\u001b[1m Non-trainable params: \u001b[0m\u001b[38;5;34m0\u001b[0m (0.00 B)\n"
      ]
     },
     "metadata": {},
     "output_type": "display_data"
    }
   ],
   "source": [
    "def build_simple_cnn(class_num):\n",
    "    inp = tf.keras.Input(shape=(28,28,1), name='input')\n",
    "    x = layers.Conv2D(32,3,padding='same',activation='relu')(inp)\n",
    "    x = layers.MaxPool2D(2)(x)\n",
    "    x = layers.Conv2D(64,3,padding='same',activation='relu')(x)\n",
    "    x = layers.MaxPool2D(2)(x)\n",
    "    x = layers.Conv2D(128, (7,7), activation='relu', padding='valid')(x)   # 1×1 conv по пространству 7×7\n",
    "    x = layers.Conv2D(20,  (1,1), activation=None,  padding='valid')(x)      # 1×1 conv для классов\n",
    "    logits = layers.Reshape((20,))(x) \n",
    "    return Model(inp, logits, name='SimpleCNN')\n",
    "\n",
    "model = build_simple_cnn(CLASS_NUM)\n",
    "model.compile(\n",
    "    optimizer=tf.keras.optimizers.Adam(1e-3),\n",
    "    loss=tf.keras.losses.CategoricalCrossentropy(from_logits=True),\n",
    "    metrics=['accuracy']\n",
    ")\n",
    "model.summary()"
   ]
  },
  {
   "cell_type": "markdown",
   "id": "309f4932",
   "metadata": {},
   "source": [
    "Обучение"
   ]
  },
  {
   "cell_type": "code",
   "execution_count": 93,
   "id": "b8d6d228",
   "metadata": {},
   "outputs": [
    {
     "name": "stdout",
     "output_type": "stream",
     "text": [
      "\u001b[1m491/491\u001b[0m \u001b[32m━━━━━━━━━━━━━━━━━━━━\u001b[0m\u001b[37m\u001b[0m \u001b[1m331s\u001b[0m 669ms/step - accuracy: 0.6906 - loss: 0.9902 - val_accuracy: 0.9467 - val_loss: 0.1481\n"
     ]
    }
   ],
   "source": [
    "history = model.fit(\n",
    "    dl.train_X, dl.train_y,\n",
    "    validation_data=(dl.test_X, dl.test_y),\n",
    "    batch_size=BATCH_SIZE,\n",
    "    epochs=EPOCHS\n",
    ")"
   ]
  },
  {
   "cell_type": "markdown",
   "id": "56503251",
   "metadata": {},
   "source": [
    "### 4. Проверк точности на тестовой выборке"
   ]
  },
  {
   "cell_type": "code",
   "execution_count": 94,
   "id": "080c91bd",
   "metadata": {},
   "outputs": [
    {
     "name": "stdout",
     "output_type": "stream",
     "text": [
      "\u001b[1m853/853\u001b[0m \u001b[32m━━━━━━━━━━━━━━━━━━━━\u001b[0m\u001b[37m\u001b[0m \u001b[1m9s\u001b[0m 11ms/step\n",
      "TF Accuracy = 0.9467, Precision=0.9529, Recall=0.9483, F1=0.9497\n"
     ]
    }
   ],
   "source": [
    "preds = model.predict(dl.test_X)\n",
    "y_true = np.argmax(dl.test_y, axis=1)\n",
    "y_pred = np.argmax(preds, axis=1)\n",
    "acc = accuracy_score(y_true, y_pred)\n",
    "prec, rec, f1, _ = precision_recall_fscore_support(y_true, y_pred,\n",
    "                                                average='macro',\n",
    "                                                zero_division=0)\n",
    "print(f\"TF Accuracy = {acc:.4f}, Precision={prec:.4f}, Recall={rec:.4f}, F1={f1:.4f}\")\n"
   ]
  },
  {
   "cell_type": "code",
   "execution_count": 95,
   "id": "c5bdef91",
   "metadata": {},
   "outputs": [
    {
     "name": "stdout",
     "output_type": "stream",
     "text": [
      "<class 'keras.src.models.functional.Functional'>\n",
      "input\n",
      "ListWrapper(['reshape'])\n"
     ]
    }
   ],
   "source": [
    "print(type(model))          # должно быть <class 'keras.engine.functional.Functional'> или <class 'keras.engine.sequential.Sequential'>\n",
    "print(model.input.name)    # например ['input']\n",
    "print(model.output_names)   # например ['output']"
   ]
  },
  {
   "cell_type": "markdown",
   "id": "f93edb1d",
   "metadata": {},
   "source": [
    "### 5. Экспорт в ONNX"
   ]
  },
  {
   "cell_type": "code",
   "execution_count": 96,
   "id": "a4d48571",
   "metadata": {},
   "outputs": [
    {
     "name": "stderr",
     "output_type": "stream",
     "text": [
      "I0000 00:00:1746887065.332224  233320 devices.cc:67] Number of eligible GPUs (core count >= 8, compute capability >= 0.0): 0\n",
      "I0000 00:00:1746887065.332435  233320 single_machine.cc:374] Starting new session\n",
      "I0000 00:00:1746887065.538571  233320 devices.cc:67] Number of eligible GPUs (core count >= 8, compute capability >= 0.0): 0\n",
      "I0000 00:00:1746887065.538705  233320 single_machine.cc:374] Starting new session\n",
      "rewriter <function rewrite_constant_fold at 0x72a4137a0a40>: exception `np.cast` was removed in the NumPy 2.0 release. Use `np.asarray(arr, dtype=dtype)` instead.\n"
     ]
    },
    {
     "name": "stdout",
     "output_type": "stream",
     "text": [
      "ONNX saved to ../model/model.onnx\n"
     ]
    }
   ],
   "source": [
    "import tf2onnx\n",
    "\n",
    "# Ваше определение spec остаётся прежним:\n",
    "spec = (tf.TensorSpec((1, 28, 28, 1), tf.float32, name=\"input\"),)\n",
    "\n",
    "# Конвертация с транспозицией входа в NCHW\n",
    "model_proto, external_tensor_storage = tf2onnx.convert.from_keras(\n",
    "    model,\n",
    "    input_signature=spec,\n",
    "    opset=13,\n",
    "    inputs_as_nchw=[model.input.name],\n",
    "    output_path=ONNX_PATH\n",
    ")\n",
    "print(\"ONNX saved to\", ONNX_PATH)\n"
   ]
  },
  {
   "cell_type": "code",
   "execution_count": 97,
   "id": "518cc676",
   "metadata": {},
   "outputs": [
    {
     "name": "stdout",
     "output_type": "stream",
     "text": [
      "input [1, 1, 28, 28]\n"
     ]
    }
   ],
   "source": [
    "import onnx\n",
    "m = onnx.load(ONNX_PATH)\n",
    "for inp in m.graph.input:\n",
    "    shape = [d.dim_value for d in inp.type.tensor_type.shape.dim]\n",
    "    print(inp.name, shape)"
   ]
  },
  {
   "cell_type": "code",
   "execution_count": 98,
   "id": "fed48472",
   "metadata": {},
   "outputs": [
    {
     "name": "stdout",
     "output_type": "stream",
     "text": [
      "Ops in graph: {'Reshape', 'Conv', 'MaxPool', 'Relu'}\n"
     ]
    }
   ],
   "source": [
    "import onnx\n",
    "m = onnx.load(\"../model/model.onnx\")\n",
    "ops = {n.op_type for n in m.graph.node}\n",
    "print(\"Ops in graph:\", ops)\n"
   ]
  },
  {
   "cell_type": "code",
   "execution_count": null,
   "id": "e5684099",
   "metadata": {},
   "outputs": [
    {
     "name": "stdout",
     "output_type": "stream",
     "text": [
      "Saved static_nchw_model\n"
     ]
    }
   ],
   "source": [
    "# import onnx\n",
    "# from onnx.tools import update_model_dims\n",
    "# from onnx import shape_inference, checker, helper, TensorProto\n",
    "\n",
    "# # 1) Загрузить NHWC-модель\n",
    "# model = onnx.load(ONNX_PATH)\n",
    "\n",
    "# # 2) Зафиксировать вход [1,28,28,1]\n",
    "# fixed = update_model_dims.update_inputs_outputs_dims(\n",
    "#     model,\n",
    "#     {\"input\": [1, 28, 28, 1]},  # вход NHWC\n",
    "#     { \"output\": [1, CLASS_NUM]}                         # выходы пусть shape_inference подтянет сами\n",
    "# )\n",
    "\n",
    "# # 3) Переименовать старый вход и вставить Transpose\n",
    "# graph = fixed.graph\n",
    "# # старый input → input_nhwc\n",
    "# graph.input[0].name = \"input_nhwc\"\n",
    "# # новый NCHW-вход\n",
    "# new_in = helper.make_tensor_value_info(\n",
    "#     \"input\", TensorProto.FLOAT, [1, 1, 28, 28]\n",
    "# )\n",
    "# graph.input.insert(0, new_in)\n",
    "# # вставляем Transpose: input → input_nhwc\n",
    "# transpose_node = helper.make_node(\n",
    "#     \"Transpose\", [\"input\"], [\"input_nhwc\"], perm=[0,3,1,2]\n",
    "# )\n",
    "# graph.node.insert(0, transpose_node)\n",
    "\n",
    "# # # 4) Shape inference и проверка\n",
    "# inferred = shape_inference.infer_shapes(fixed)\n",
    "# # checker.check_model(inferred)\n",
    "\n",
    "# # 5) Сохранить окончательный NCHW-ONNX\n",
    "# onnx.save(inferred, ONNX_PATH)\n",
    "# print(\"Saved static_nchw_model\")\n"
   ]
  },
  {
   "cell_type": "markdown",
   "id": "d06a0e22",
   "metadata": {},
   "source": [
    "# Локальная проверка ONNX\n"
   ]
  },
  {
   "cell_type": "code",
   "execution_count": 100,
   "id": "3440ecc7",
   "metadata": {},
   "outputs": [
    {
     "name": "stdout",
     "output_type": "stream",
     "text": [
      "Input shape: [1, 1, 28, 28]\n",
      "Output shape: [1, 20]\n",
      "ONNX logits: [[  3.681105     5.278968     3.8235843    1.3284911   -4.9846506\n",
      "    3.013633    -6.269668    10.897063    13.320679    -5.1513815\n",
      "  -10.515752   -15.496873    -7.702152   -14.793939     0.29847774\n",
      "    2.4666004  -14.060369    -8.991285    -2.0131204   -0.31099385]] predicted class: 8\n"
     ]
    }
   ],
   "source": [
    "import onnxruntime as rt, numpy as np\n",
    "from PIL import Image\n",
    "\n",
    "sess = rt.InferenceSession(ONNX_PATH)\n",
    "inp_name  = sess.get_inputs()[0].name\n",
    "out_name  = sess.get_outputs()[0].name\n",
    "\n",
    "print(\"Input shape:\", sess.get_inputs()[0].shape)   # должен быть [1,1,28,28]\n",
    "print(\"Output shape:\", sess.get_outputs()[0].shape)\n",
    "\n",
    "# Подготовка одного образца\n",
    "img = Image.open(\"../data/sample.bmp\").convert(\"L\")\n",
    "arr = np.array(img, dtype=np.float32) / 255.0\n",
    "arr = arr[np.newaxis, np.newaxis, :, :]  # [1,1,28,28]\n",
    "out = sess.run([out_name], {inp_name: arr})[0]\n",
    "print(\"ONNX logits:\", out, \"predicted class:\", np.argmax(out))"
   ]
  }
 ],
 "metadata": {
  "kernelspec": {
   "display_name": "venv",
   "language": "python",
   "name": "python3"
  },
  "language_info": {
   "codemirror_mode": {
    "name": "ipython",
    "version": 3
   },
   "file_extension": ".py",
   "mimetype": "text/x-python",
   "name": "python",
   "nbconvert_exporter": "python",
   "pygments_lexer": "ipython3",
   "version": "3.12.3"
  }
 },
 "nbformat": 4,
 "nbformat_minor": 5
}
