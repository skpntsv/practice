{
 "cells": [
  {
   "cell_type": "code",
   "execution_count": 4,
   "id": "9b7f5757",
   "metadata": {},
   "outputs": [
    {
     "name": "stderr",
     "output_type": "stream",
     "text": [
      "2025-05-10 19:03:37.568630: I external/local_xla/xla/tsl/cuda/cudart_stub.cc:32] Could not find cuda drivers on your machine, GPU will not be used.\n",
      "2025-05-10 19:03:37.576959: I external/local_xla/xla/tsl/cuda/cudart_stub.cc:32] Could not find cuda drivers on your machine, GPU will not be used.\n",
      "2025-05-10 19:03:37.604556: E external/local_xla/xla/stream_executor/cuda/cuda_fft.cc:467] Unable to register cuFFT factory: Attempting to register factory for plugin cuFFT when one has already been registered\n",
      "WARNING: All log messages before absl::InitializeLog() is called are written to STDERR\n",
      "E0000 00:00:1746878617.656660  240735 cuda_dnn.cc:8579] Unable to register cuDNN factory: Attempting to register factory for plugin cuDNN when one has already been registered\n",
      "E0000 00:00:1746878617.667313  240735 cuda_blas.cc:1407] Unable to register cuBLAS factory: Attempting to register factory for plugin cuBLAS when one has already been registered\n",
      "W0000 00:00:1746878617.693979  240735 computation_placer.cc:177] computation placer already registered. Please check linkage and avoid linking the same target more than once.\n",
      "W0000 00:00:1746878617.694016  240735 computation_placer.cc:177] computation placer already registered. Please check linkage and avoid linking the same target more than once.\n",
      "W0000 00:00:1746878617.694021  240735 computation_placer.cc:177] computation placer already registered. Please check linkage and avoid linking the same target more than once.\n",
      "W0000 00:00:1746878617.694024  240735 computation_placer.cc:177] computation placer already registered. Please check linkage and avoid linking the same target more than once.\n",
      "2025-05-10 19:03:37.702811: I tensorflow/core/platform/cpu_feature_guard.cc:210] This TensorFlow binary is optimized to use available CPU instructions in performance-critical operations.\n",
      "To enable the following instructions: AVX2 FMA, in other operations, rebuild TensorFlow with the appropriate compiler flags.\n"
     ]
    }
   ],
   "source": [
    "import os, gzip, numpy as np\n",
    "import tensorflow as tf\n",
    "\n",
    "class MNISTDataLoader:\n",
    "    def __init__(self, data_dir, class_num=20):\n",
    "        self.data_dir  = data_dir\n",
    "        self.class_num = class_num\n",
    "        self.train_X, self.train_y = self._load_split('train')\n",
    "        self.test_X,  self.test_y  = self._load_split('t10k')\n",
    "        self.train_y = tf.keras.utils.to_categorical(self.train_y, class_num)\n",
    "        self.test_y  = tf.keras.utils.to_categorical(self.test_y,  class_num)\n",
    "        self.num_train = len(self.train_X)\n",
    "        print(f\"Loaded: train {self.train_X.shape}, test {self.test_X.shape}\")\n",
    "\n",
    "    def _load_split(self, prefix):\n",
    "        imf = os.path.join(self.data_dir, f'{prefix}-images-idx3-ubyte.gz')\n",
    "        lf  = os.path.join(self.data_dir, f'{prefix}-labels-idx1-ubyte.gz')\n",
    "        with gzip.open(imf,'rb') as f:\n",
    "            buf = f.read()\n",
    "        X = np.frombuffer(buf, np.uint8, offset=16).astype(np.float32)/255.0\n",
    "        X = X.reshape(-1,28,28,1)\n",
    "        with gzip.open(lf,'rb') as f:\n",
    "            buf = f.read()\n",
    "        y = np.frombuffer(buf, np.uint8, offset=8)\n",
    "        return X, y"
   ]
  },
  {
   "cell_type": "code",
   "execution_count": 11,
   "id": "11e864c2",
   "metadata": {},
   "outputs": [
    {
     "name": "stdout",
     "output_type": "stream",
     "text": [
      "Loaded: train (245437, 28, 28, 1), test (27271, 28, 28, 1)\n"
     ]
    }
   ],
   "source": [
    "import random\n",
    "from PIL import Image\n",
    "\n",
    "DATA_DIR = '../data/dataset/20class/FlowAllLayers'\n",
    "dl = MNISTDataLoader(DATA_DIR, class_num=20)"
   ]
  },
  {
   "cell_type": "code",
   "execution_count": 17,
   "id": "e4f701da",
   "metadata": {},
   "outputs": [
    {
     "name": "stdout",
     "output_type": "stream",
     "text": [
      "Saved data/sample.bmp & data/sample.raw, label = 8\n"
     ]
    }
   ],
   "source": [
    "i = random.randrange(len(dl.test_X))\n",
    "img = (dl.test_X[i]*255).astype(np.uint8).reshape(28,28)\n",
    "os.makedirs('../data', exist_ok=True)\n",
    "Image.fromarray(img, mode='L').save('../data/sample.bmp')\n",
    "dl.test_X[i:i+1].astype(np.float32).tofile('../data/sample.raw')\n",
    "print(\"Saved data/sample.bmp & data/sample.raw, label =\", np.argmax(dl.test_y[i]))"
   ]
  }
 ],
 "metadata": {
  "kernelspec": {
   "display_name": "venv",
   "language": "python",
   "name": "python3"
  },
  "language_info": {
   "codemirror_mode": {
    "name": "ipython",
    "version": 3
   },
   "file_extension": ".py",
   "mimetype": "text/x-python",
   "name": "python",
   "nbconvert_exporter": "python",
   "pygments_lexer": "ipython3",
   "version": "3.12.3"
  }
 },
 "nbformat": 4,
 "nbformat_minor": 5
}
